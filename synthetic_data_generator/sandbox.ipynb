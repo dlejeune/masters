{
 "cells": [
  {
   "cell_type": "code",
   "execution_count": 8,
   "id": "initial_id",
   "metadata": {
    "collapsed": true,
    "ExecuteTime": {
     "end_time": "2024-03-16T14:29:25.912791Z",
     "start_time": "2024-03-16T14:29:25.911050Z"
    }
   },
   "outputs": [],
   "source": [
    "import json\n",
    "import constants\n",
    "import random"
   ]
  },
  {
   "cell_type": "code",
   "outputs": [],
   "source": [
    "seq = \"\".join(random.choices(list(constants.codon_to_aa_table.keys()),\n",
    "                             k=10))"
   ],
   "metadata": {
    "collapsed": false,
    "ExecuteTime": {
     "end_time": "2024-03-16T14:30:47.281703Z",
     "start_time": "2024-03-16T14:30:47.279674Z"
    }
   },
   "id": "e9f2f82deb66805c",
   "execution_count": 17
  },
  {
   "cell_type": "code",
   "outputs": [
    {
     "data": {
      "text/plain": "'TTTACGTTCGCAAAATCGTAAACAGCACTG'"
     },
     "execution_count": 18,
     "metadata": {},
     "output_type": "execute_result"
    }
   ],
   "source": [
    "seq"
   ],
   "metadata": {
    "collapsed": false,
    "ExecuteTime": {
     "end_time": "2024-03-16T14:30:49.770344Z",
     "start_time": "2024-03-16T14:30:49.767582Z"
    }
   },
   "id": "da64d373f87c361",
   "execution_count": 18
  },
  {
   "cell_type": "code",
   "outputs": [],
   "source": [
    "def introduce_gap(seq, gap_size, gap_start):\n",
    "    return seq[:gap_start] + seq[gap_start + gap_size:]"
   ],
   "metadata": {
    "collapsed": false,
    "ExecuteTime": {
     "end_time": "2024-03-16T14:31:59.269916Z",
     "start_time": "2024-03-16T14:31:59.266390Z"
    }
   },
   "id": "1b962eb5b0c6743",
   "execution_count": 19
  },
  {
   "cell_type": "code",
   "outputs": [
    {
     "data": {
      "text/plain": "'TTTACCGCAAAATCGTAAACAGCACTG'"
     },
     "execution_count": 20,
     "metadata": {},
     "output_type": "execute_result"
    }
   ],
   "source": [
    "introduce_gap(seq, 3, 5)"
   ],
   "metadata": {
    "collapsed": false,
    "ExecuteTime": {
     "end_time": "2024-03-16T14:32:02.563386Z",
     "start_time": "2024-03-16T14:32:02.558435Z"
    }
   },
   "id": "327b1721b6144cb9",
   "execution_count": 20
  },
  {
   "cell_type": "code",
   "outputs": [],
   "source": [
    "def introduce_insertion(seq, insertion_start, insertion=None, insertion_size=10):\n",
    "    if insertion is None:\n",
    "        insertion = \"\".join(random.choices(list(constants.codon_to_aa_table.keys()), k=insertion_size))\n",
    "    return seq[:insertion_start] + insertion + seq[insertion_start:]"
   ],
   "metadata": {
    "collapsed": false,
    "ExecuteTime": {
     "end_time": "2024-03-16T14:36:34.440942Z",
     "start_time": "2024-03-16T14:36:34.438661Z"
    }
   },
   "id": "990e735159c7943f",
   "execution_count": 23
  },
  {
   "cell_type": "code",
   "outputs": [
    {
     "data": {
      "text/plain": "'TTTACGCAACGAGCGGTGCAAGCGTTTTTACTGGGGTTCGCAAAATCGTAAACAGCACTG'"
     },
     "execution_count": 24,
     "metadata": {},
     "output_type": "execute_result"
    }
   ],
   "source": [
    "introduce_insertion(seq, 5)"
   ],
   "metadata": {
    "collapsed": false,
    "ExecuteTime": {
     "end_time": "2024-03-16T14:36:35.296631Z",
     "start_time": "2024-03-16T14:36:35.293482Z"
    }
   },
   "id": "58fb8f1bee2c8111",
   "execution_count": 24
  },
  {
   "cell_type": "code",
   "outputs": [],
   "source": [],
   "metadata": {
    "collapsed": false
   },
   "id": "cd48accc883eab64"
  }
 ],
 "metadata": {
  "kernelspec": {
   "display_name": "Python 3",
   "language": "python",
   "name": "python3"
  },
  "language_info": {
   "codemirror_mode": {
    "name": "ipython",
    "version": 2
   },
   "file_extension": ".py",
   "mimetype": "text/x-python",
   "name": "python",
   "nbconvert_exporter": "python",
   "pygments_lexer": "ipython2",
   "version": "2.7.6"
  }
 },
 "nbformat": 4,
 "nbformat_minor": 5
}
